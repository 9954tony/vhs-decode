{
 "cells": [
  {
   "cell_type": "code",
   "execution_count": null,
   "metadata": {},
   "outputs": [],
   "source": [
    "%load_ext autoreload\n",
    "%autoreload 2\n",
    "\n",
    "from base64 import b64encode\n",
    "import copy\n",
    "from datetime import datetime\n",
    "import getopt\n",
    "import os\n",
    "import sys\n",
    "\n",
    "# standard numeric/scientific libraries\n",
    "import numpy as np\n",
    "import pandas as pd\n",
    "import scipy as sp\n",
    "import scipy.signal as sps\n",
    "import scipy.fftpack as fftpack \n",
    "\n",
    "# plotting\n",
    "%matplotlib inline\n",
    "import matplotlib\n",
    "import matplotlib.pyplot as plt\n",
    "\n",
    "try:\n",
    "    # I use dark mode in my notebooks, this makes the plots match :)\n",
    "    from jupyterthemes import jtplot\n",
    "    jtplot.style(theme='monokai', context='notebook', ticks=True, grid=False)    \n",
    "except:\n",
    "    pass\n",
    "\n",
    "matplotlib.rc('figure', figsize=(20, 12))\n",
    "\n",
    "# image display\n",
    "from PIL import Image\n",
    "import IPython.display \n",
    "from IPython.display import HTML\n",
    "\n",
    "# Add lddecode core modules to path\n",
    "module_path = os.path.abspath(os.path.join('../lddecode'))\n",
    "if module_path not in sys.path:\n",
    "    sys.path.append(module_path)\n",
    "\n",
    "module_path = os.path.abspath(os.path.join('..'))\n",
    "if module_path not in sys.path:\n",
    "    sys.path.append(module_path)\n",
    "\n",
    "from lddecode.utils import *\n",
    "from lddecode.plot_utils import *\n",
    "import lddecode.core as core"
   ]
  },
  {
   "cell_type": "code",
   "execution_count": null,
   "metadata": {},
   "outputs": [],
   "source": [
    "filename = '/home/cpage/ld-decode-testdata/he010_cbar.lds'\n",
    "outname = 'devbook'\n",
    "system = 'NTSC'\n",
    "foutput = False\n",
    "loader = make_loader(filename)\n",
    "\n",
    "firstframe = 0\n",
    "req_frames = 3\n",
    "\n",
    "ldd = core.LDdecode(filename, outname, loader, system=system)\n",
    "ldd.roughseek(firstframe * 2)\n",
    "ldd.blackIRE = 7.5\n",
    "\n",
    "fields = []\n",
    "for i in range(0, req_frames * 2):\n",
    "    fields.append(ldd.readfield())\n",
    "    \n",
    "write_json(ldd, outname)"
   ]
  },
  {
   "cell_type": "code",
   "execution_count": null,
   "metadata": {},
   "outputs": [],
   "source": [
    "# Displays field\n",
    "draw_field(fields[0])"
   ]
  },
  {
   "cell_type": "code",
   "execution_count": null,
   "metadata": {},
   "outputs": [],
   "source": []
  }
 ],
 "metadata": {
  "kernelspec": {
   "display_name": "Python 3",
   "language": "python",
   "name": "python3"
  },
  "language_info": {
   "codemirror_mode": {
    "name": "ipython",
    "version": 3
   },
   "file_extension": ".py",
   "mimetype": "text/x-python",
   "name": "python",
   "nbconvert_exporter": "python",
   "pygments_lexer": "ipython3",
   "version": "3.7.1"
  },
  "widgets": {
   "state": {},
   "version": "1.1.2"
  }
 },
 "nbformat": 4,
 "nbformat_minor": 2
}
