{
 "cells": [
  {
   "cell_type": "code",
   "execution_count": 48,
   "metadata": {
    "collapsed": true
   },
   "outputs": [],
   "source": [
    "import numpy as np\n",
    "import scipy as sp\n",
    "import scipy.signal as sps\n",
    "import scipy.fftpack as fftpack \n",
    "import matplotlib.pyplot as plt\n",
    "import sys\n",
    "import getopt\n",
    "\n",
    "from datetime import  datetime\n",
    "\n",
    "import fft8 as fft8 \n",
    "import ld_utils as utils\n",
    "\n",
    "import copy\n",
    "\n",
    "pi = np.pi\n",
    "tau = np.pi * 2\n",
    "\n",
    "blocklenk = 16\n",
    "blocklen = (blocklenk * 1024)"
   ]
  },
  {
   "cell_type": "code",
   "execution_count": 541,
   "metadata": {
    "collapsed": true
   },
   "outputs": [],
   "source": [
    "\n",
    "# These are NTSC defaults.  They may be reprogrammed before starting\n",
    "SysParams_NTSC = {\n",
    "\t'analog_audio': True,\n",
    "\t'audio_lfreq': 2301136,\n",
    "\t'audio_rfreq': 2812499,\n",
    "\n",
    "\t'fsc_mhz': (315.0 / 88.0),\n",
    "\n",
    "\t# video frequencies \n",
    "\t'videorf_sync': 7600000,\n",
    "\t'videorf_0ire': 8100000,\n",
    "\t'videorf_100ire': 9300000, # slightly higher on later disks\n",
    "\n",
    "\t'ire_min': -60,\n",
    "\t'ire_max': 140,\n",
    "\n",
    "\t# changeable defaults\n",
    "\t#'deemp': (120, 320),\n",
    "    'deemp': (135, 320),\n",
    "\n",
    "\t'vbpf': (3200000, 14000000),\n",
    "\t'vlpf_freq': 4200000,\t# in mhz\n",
    "\t'vlpf_order': 4\t\t# butterworth filter order\n",
    "}\n",
    "\n",
    "SysParams_PAL = {\n",
    "\t'analog_audio': False, # not true for later PAL\n",
    "\t'audio_lfreq': 683593,\n",
    "\t'audio_rfreq': 1066400,\n",
    "\n",
    "\t'fsc_mhz': 4.43361875,\n",
    "\n",
    "\t# video frequencies \n",
    "\t'videorf_sync': 6760000,\n",
    "\t'videorf_0ire': 7100000,\n",
    "\t'videorf_100ire': 8000000,\n",
    "\n",
    "\t'ire_min': -95, # needed for pilot signal\n",
    "\t'ire_max': 145,\n",
    "\n",
    "\t# changeable defaults\n",
    "\t'deemp': (.51, 2.0),\n",
    "\n",
    "\t# XXX: guessing here!\n",
    "\t'vbpf': (2200000, 11000000),\n",
    "\t'vlpf_freq': 5500000,\t# in mhz\n",
    "\t'vlpf_order': 8\t\t# butterworth filter order\n",
    "}\n",
    "\n",
    "# support reloading/rerunning from ipython\n",
    "try:\n",
    "    # a dummy load\n",
    "\ttmp = SysParams['fsc_mhz']\n",
    "except:\n",
    "\tSysParams = copy.deepcopy(SysParams_PAL)\n",
    "    "
   ]
  },
  {
   "cell_type": "code",
   "execution_count": 542,
   "metadata": {
    "collapsed": true
   },
   "outputs": [],
   "source": [
    "# Domesday Duplicator system uses 32mhz/10bit, expressed as 16-bit signed integers\n",
    "CapParams_DomesdayDuplicator = {\n",
    "    'freq': 32,\n",
    "    'dtype': np.int16,\n",
    "}\n",
    "\n",
    "# cxadc can only really capture at 8fsc (28.8xmhz), with 8-bit unsigned samples\n",
    "CapParams_cxadc = {\n",
    "    'freq': (315.0 / 88.0) * 8.00,\n",
    "    'dtype': np.uint8,\n",
    "}\n",
    "\n",
    "try:\n",
    "    tmp = CapParams['freq']\n",
    "except:\n",
    "    CapParams = CapParams_cxadc"
   ]
  },
  {
   "cell_type": "code",
   "execution_count": 543,
   "metadata": {
    "collapsed": true
   },
   "outputs": [],
   "source": [
    "CapParams = CapParams_DomesdayDuplicator"
   ]
  },
  {
   "cell_type": "code",
   "execution_count": 544,
   "metadata": {
    "collapsed": true
   },
   "outputs": [],
   "source": [
    "CapParams = CapParams_cxadc"
   ]
  },
  {
   "cell_type": "code",
   "execution_count": 545,
   "metadata": {
    "collapsed": true
   },
   "outputs": [],
   "source": [
    "SysParams = copy.deepcopy(SysParams_NTSC)"
   ]
  },
  {
   "cell_type": "code",
   "execution_count": 546,
   "metadata": {},
   "outputs": [
    {
     "name": "stdout",
     "output_type": "stream",
     "text": [
      "analog_audio True\n",
      "audio_lfreq 2301136\n",
      "audio_rfreq 2812499\n",
      "fsc_mhz 3.5795454545454546\n",
      "videorf_sync 7600000\n",
      "videorf_0ire 8100000\n",
      "videorf_100ire 9300000\n",
      "ire_min -60\n",
      "ire_max 140\n",
      "deemp (135, 320)\n",
      "vbpf (3200000, 14000000)\n",
      "vlpf_freq 4200000\n",
      "vlpf_order 4\n",
      "freq 28.636363636363637\n",
      "dtype <class 'numpy.uint8'>\n"
     ]
    }
   ],
   "source": [
    "OverrideParams = {}\n",
    "\n",
    "params = {}\n",
    "\n",
    "for p in [SysParams, CapParams, OverrideParams]:\n",
    "    for k in p.keys():\n",
    "        print(k, p[k])\n",
    "        params[k] = p[k]"
   ]
  },
  {
   "cell_type": "code",
   "execution_count": 547,
   "metadata": {
    "collapsed": true
   },
   "outputs": [],
   "source": [
    "# from http://tlfabian.blogspot.com/2013/01/implementing-hilbert-90-degree-shift.html\n",
    "hilbert_filter = np.fft.fftshift(\n",
    "    np.fft.ifft([0]+[1]*200+[0]*200)\n",
    "    #np.fft.ifft([0]+[1]*(blocklen//4)+[0]*(blocklen//4))\n",
    ")\n",
    "fft_hilbert = np.fft.fft(hilbert_filter, blocklen)"
   ]
  },
  {
   "cell_type": "code",
   "execution_count": 567,
   "metadata": {
    "collapsed": true
   },
   "outputs": [],
   "source": [
    "def filtfft(filt, blen = blocklen):\n",
    "    return sps.freqz(filt[0], filt[1], blen, whole=1)[1]\n",
    "\n",
    "def prepare_video_filters(SP):\n",
    "    SP['freq_hz'] = SP['freq'] * 1000000\n",
    "    \n",
    "    freq_hz = SP['freq_hz']\n",
    "    freq_hz_half = SP['freq_hz'] / 2\n",
    "    \n",
    "    # TODO:  test these CLV+innerCAV parameters.  Should be same on PAL+NTSC \n",
    "    t1 = 25\n",
    "    t2 = 13.75\n",
    "\n",
    "    [tf_b, tf_a] = sps.zpk2tf(-t2*(10**-9), -t1*(10**-9), t1 / t2)\n",
    "    Fmtf = filtfft(sps.bilinear(tf_b, tf_a, 1/freq_hz_half))\n",
    "\n",
    "    # RF BPF and analog audio cut filters\n",
    "    Fbpf = filtfft(sps.butter(1, [SP['vbpf'][0]/freq_hz_half, SP['vbpf'][1]/freq_hz_half], btype='bandpass'))\n",
    "\n",
    "    # standard post-demod LPF\n",
    "    Fplpf = filtfft(sps.butter(SP['vlpf_order'], SP['vlpf_freq']/freq_hz_half, 'low'))\n",
    "\n",
    "    # post-demod deemphasis filter\n",
    "    [tf_b, tf_a] = sps.zpk2tf(-SP['deemp'][1]*(10**-10)/2.0, -SP['deemp'][0]*(10**-10)/2.0, SP['deemp'][0] / SP['deemp'][1])\n",
    "    Fdeemp = filtfft(sps.bilinear(tf_b, tf_a, 1.0/freq_hz_half))\n",
    "\n",
    "    SP['fft_video'] = Fbpf * fft_hilbert\n",
    "\n",
    "    if SP['analog_audio'] == True:\n",
    "        Fcutl = filtfft(sps.butter(1, [(SP['audio_lfreq'] - 750000)/freq_hz_half, (SP['audio_lfreq'] + 750000)/(freq_hz/2)], btype='bandstop'))\n",
    "        Fcutr = filtfft(sps.butter(1, [(SP['audio_rfreq'] - 750000)/freq_hz_half, (SP['audio_rfreq'] + 750000)/(freq_hz/2)], btype='bandstop'))\n",
    "\n",
    "        # if AC3:\n",
    "        #SP['f_arightcut'] = sps.butter(1, [(2650000)/(freq_hz/2), (3150000)/(freq_hz/2)], btype='bandstop')\n",
    "\n",
    "        SP['fft_video'] *= (Fcutl * Fcutr)\n",
    "        \n",
    "    SP['fft_video_inner'] = SP['fft_video'] * Fmtf\n",
    "\n",
    "    # Post processing:  lowpass filter + deemp\n",
    "    SP['fft_post'] = Fplpf # * Fdeemp\n",
    "\n",
    "    # determine freq offset and mult for output stage\n",
    "    hz_ire_scale = (SP['videorf_100ire'] - SP['videorf_0ire']) / 100\n",
    "    minn = SP['videorf_0ire'] + (hz_ire_scale * -60)\n",
    "    SP['output_minfreq'] = sminn = minn / (SP['freq_hz'] / tau)\n",
    "\n",
    "    out_scale = 65534.0 / (SP['ire_max'] - SP['ire_min'])\n",
    "    SP['output_scale'] = (SP['freq_hz'] / tau) * (out_scale / hz_ire_scale)\n"
   ]
  },
  {
   "cell_type": "code",
   "execution_count": 568,
   "metadata": {
    "collapsed": true
   },
   "outputs": [],
   "source": [
    "prepare_video_filters(params)"
   ]
  },
  {
   "cell_type": "code",
   "execution_count": 569,
   "metadata": {
    "collapsed": true
   },
   "outputs": [],
   "source": [
    "infile = open('/mnt2/ld/alienturtle25.raw', 'rb')\n",
    "\n",
    "#inbuf = infile.read(1024 * 1024 * 2048)\n",
    "infile.seek(1024 * 1024 * 1024 * 8)\n",
    "inbuf = infile.read(1024 * 1024 * 1)\n",
    "#indata = np.fromstring(inbuf, 'int16', len(inbuf) // 2)\n",
    "indata = np.fromstring(inbuf, 'uint8', len(inbuf))"
   ]
  },
  {
   "cell_type": "code",
   "execution_count": 570,
   "metadata": {
    "collapsed": true
   },
   "outputs": [],
   "source": [
    "data = indata[0:blocklen]"
   ]
  },
  {
   "cell_type": "code",
   "execution_count": 571,
   "metadata": {},
   "outputs": [
    {
     "data": {
      "text/plain": [
       "55"
      ]
     },
     "execution_count": 571,
     "metadata": {},
     "output_type": "execute_result"
    }
   ],
   "source": [
    "data.min()\n"
   ]
  },
  {
   "cell_type": "code",
   "execution_count": 572,
   "metadata": {
    "collapsed": true
   },
   "outputs": [],
   "source": [
    "data_fft = np.fft.fft(data)"
   ]
  },
  {
   "cell_type": "code",
   "execution_count": 573,
   "metadata": {
    "collapsed": true
   },
   "outputs": [],
   "source": [
    "hilbert = np.fft.ifft(data_fft * params['fft_video'])"
   ]
  },
  {
   "cell_type": "code",
   "execution_count": 574,
   "metadata": {
    "collapsed": true
   },
   "outputs": [],
   "source": [
    "tangles = np.angle(hilbert)\n",
    "dangles = np.pad(np.diff(tangles), (1, 0), mode='constant')\n",
    "\n",
    "# make sure unwapping goes the right way\n",
    "if (dangles[0] < -pi):\n",
    "        dangles[0] += tau\n",
    "        \n",
    "tdangles2 = np.unwrap(dangles) \n",
    "\n",
    "demod = (tdangles2 * (params['freq_hz'] / tau))\n"
   ]
  },
  {
   "cell_type": "code",
   "execution_count": 575,
   "metadata": {
    "collapsed": true
   },
   "outputs": [],
   "source": [
    "demod_fft = np.fft.fft(demod)"
   ]
  },
  {
   "cell_type": "code",
   "execution_count": 576,
   "metadata": {
    "collapsed": true
   },
   "outputs": [],
   "source": [
    "output = np.fft.ifft(demod_fft * params['fft_post']).real"
   ]
  },
  {
   "cell_type": "code",
   "execution_count": 577,
   "metadata": {
    "collapsed": true
   },
   "outputs": [],
   "source": [
    "%matplotlib inline"
   ]
  },
  {
   "cell_type": "code",
   "execution_count": 578,
   "metadata": {},
   "outputs": [
    {
     "data": {
      "text/plain": [
       "[<matplotlib.lines.Line2D at 0x7fc7ec6d6eb8>]"
      ]
     },
     "execution_count": 578,
     "metadata": {},
     "output_type": "execute_result"
    },
    {
     "data": {
      "image/png": "[encoded data removed]",
      "text/plain": [
       "<matplotlib.figure.Figure at 0x7fc7ec6c2f60>"
      ]
     },
     "metadata": {},
     "output_type": "display_data"
    }
   ],
   "source": [
    "#plt.plot(output[1250:1700])\n",
    "plt.plot(output[700:1200])"
   ]
  },
  {
   "cell_type": "code",
   "execution_count": 559,
   "metadata": {},
   "outputs": [
    {
     "data": {
      "text/plain": [
       "[<matplotlib.lines.Line2D at 0x7fc7ec979a90>]"
      ]
     },
     "execution_count": 559,
     "metadata": {},
     "output_type": "execute_result"
    },
    {
     "data": {
      "image/png": "[encoded data removed]",
      "text/plain": [
       "<matplotlib.figure.Figure at 0x7fc7ec72a550>"
      ]
     },
     "metadata": {},
     "output_type": "display_data"
    }
   ],
   "source": [
    "#plt.plot(output[1250:1700])\n",
    "plt.plot(output[700:1200])"
   ]
  },
  {
   "cell_type": "code",
   "execution_count": 560,
   "metadata": {
    "collapsed": true
   },
   "outputs": [],
   "source": [
    "output_scaled = (output - 8100000) / (1700000 / 140)"
   ]
  },
  {
   "cell_type": "code",
   "execution_count": 561,
   "metadata": {},
   "outputs": [
    {
     "data": {
      "text/plain": [
       "[<matplotlib.lines.Line2D at 0x7fc7ec76f7b8>]"
      ]
     },
     "execution_count": 561,
     "metadata": {},
     "output_type": "execute_result"
    },
    {
     "data": {
      "image/png": "[encoded data removed]",
      "text/plain": [
       "<matplotlib.figure.Figure at 0x7fc7eca0ca58>"
      ]
     },
     "metadata": {},
     "output_type": "display_data"
    }
   ],
   "source": [
    "#plt.plot(output[1250:1700])\n",
    "plt.plot(output_scaled[900:1100])"
   ]
  },
  {
   "cell_type": "code",
   "execution_count": 425,
   "metadata": {
    "collapsed": true
   },
   "outputs": [],
   "source": [
    "# Below this isn't right at all yet"
   ]
  },
  {
   "cell_type": "code",
   "execution_count": 34,
   "metadata": {
    "collapsed": true
   },
   "outputs": [],
   "source": [
    "t1 = 25\n",
    "t2 = 13.75\n",
    "\n",
    "[tf_b, tf_a] = sps.zpk2tf(-t2*(10**-8), -t1*(10**-8), t1 / t2)\n",
    "Fmtf = filtfft(sps.bilinear(tf_b, tf_a, .5/params['freq_hz']))"
   ]
  },
  {
   "cell_type": "code",
   "execution_count": 35,
   "metadata": {},
   "outputs": [
    {
     "data": {
      "text/plain": [
       "array([ 1. +0.00000000e+00j,  1. +1.96105501e-05j,  1. +3.92211015e-05j,\n",
       "       ...,  1. -5.88316557e-05j,  1. -3.92211015e-05j,\n",
       "        1. -1.96105501e-05j])"
      ]
     },
     "execution_count": 35,
     "metadata": {},
     "output_type": "execute_result"
    }
   ],
   "source": [
    "Fmtf\n"
   ]
  },
  {
   "cell_type": "code",
   "execution_count": 562,
   "metadata": {
    "collapsed": true
   },
   "outputs": [],
   "source": [
    "def doplot(B, A):\n",
    "        w, h = sps.freqz(B, A)\n",
    "\n",
    "        fig = plt.figure()\n",
    "        plt.title('Digital filter frequency response')\n",
    "        \n",
    "        db = 20 * np.log10(abs(h))\n",
    "        for i in range(1, len(w)):\n",
    "                if (db[i] >= -10) and (db[i - 1] < -10):\n",
    "                        print(\">-10db crossing at \", w[i] * (freq/pi) / 2.0) \n",
    "                if (db[i] >= -3) and (db[i - 1] < -3):\n",
    "                        print(\">-3db crossing at \", w[i] * (freq/pi) / 2.0) \n",
    "                if (db[i] < -3) and (db[i - 1] >= -3):\n",
    "                        print(\"<-3db crossing at \", w[i] * (freq/pi) / 2.0) \n",
    "\n",
    "        ax1 = fig.add_subplot(111)\n",
    "        \n",
    "        plt.plot(w * (freq/pi) / 2.0, 20 * np.log10(abs(h)), 'b')\n",
    "        plt.ylabel('Amplitude [dB]', color='b')\n",
    "        plt.xlabel('Frequency [rad/sample]')\n",
    "\n",
    "        ax2 = ax1.twinx()\n",
    "        angles = np.unwrap(np.angle(h))\n",
    "        plt.plot(w * (freq/pi) / 2.0, angles, 'g')\n",
    "        plt.ylabel('Angle (radians)', color='g')\n",
    "        \n",
    "        plt.grid()\n",
    "        plt.axis('tight')\n",
    "        plt.show()"
   ]
  },
  {
   "cell_type": "code",
   "execution_count": 563,
   "metadata": {},
   "outputs": [
    {
     "data": {
      "text/plain": [
       "(16384,)"
      ]
     },
     "execution_count": 563,
     "metadata": {},
     "output_type": "execute_result"
    }
   ],
   "source": [
    "Fmtf.shape"
   ]
  },
  {
   "cell_type": "code",
   "execution_count": 566,
   "metadata": {},
   "outputs": [
    {
     "data": {
      "text/plain": [
       "{'analog_audio': True,\n",
       " 'audio_lfreq': 2301136,\n",
       " 'audio_rfreq': 2812499,\n",
       " 'deemp': (135, 320),\n",
       " 'dtype': numpy.uint8,\n",
       " 'fft_post': array([ 1.00000000+0.j        ,  0.99998807-0.00330332j,\n",
       "         0.99995229-0.00660635j, ...,  0.99989267+0.00990883j,\n",
       "         0.99995229+0.00660635j,  0.99998807+0.00330332j]),\n",
       " 'fft_video': array([  0.00000000e+00 +0.00000000e+00j,\n",
       "          7.00430142e-07 +8.94460579e-06j,\n",
       "          5.74127888e-06 +3.64337349e-05j, ...,\n",
       "         -1.66032568e-05 +6.95173537e-05j,\n",
       "         -5.10779700e-06 +3.24137054e-05j,  -6.60681042e-07 +8.43700337e-06j]),\n",
       " 'fft_video_inner': array([  0.00000000e+00 +0.00000000e+00j,\n",
       "          6.92590321e-07 +8.94522815e-06j,\n",
       "          5.67742799e-06 +3.64439369e-05j, ...,\n",
       "         -1.64205905e-05 +6.95616021e-05j,\n",
       "         -5.05099130e-06 +3.24227817e-05j,  -6.53286127e-07 +8.43759042e-06j]),\n",
       " 'freq': 28.636363636363637,\n",
       " 'freq_hz': 28636363.636363637,\n",
       " 'fsc_mhz': 3.5795454545454546,\n",
       " 'ire_max': 140,\n",
       " 'ire_min': -60,\n",
       " 'output_minfreq': 1.6192666134502818,\n",
       " 'output_scale': 124449.58002969869,\n",
       " 'vbpf': (3200000, 14000000),\n",
       " 'videorf_0ire': 8100000,\n",
       " 'videorf_100ire': 9300000,\n",
       " 'videorf_sync': 7600000,\n",
       " 'vlpf_freq': 4200000,\n",
       " 'vlpf_order': 4}"
      ]
     },
     "execution_count": 566,
     "metadata": {},
     "output_type": "execute_result"
    }
   ],
   "source": [
    "params"
   ]
  },
  {
   "cell_type": "code",
   "execution_count": 45,
   "metadata": {},
   "outputs": [
    {
     "name": "stderr",
     "output_type": "stream",
     "text": [
      "/home/cpage/anaconda3/lib/python3.6/site-packages/matplotlib/cbook/deprecation.py:106: MatplotlibDeprecationWarning: Adding an axes using the same arguments as a previous axes currently reuses the earlier instance.  In a future version, a new instance will always be created and returned.  Meanwhile, this warning can be suppressed, and the future behavior ensured, by passing a unique label to each axes instance.\n",
      "  warnings.warn(message, mplDeprecation, stacklevel=1)\n"
     ]
    },
    {
     "data": {
      "image/png": "[encoded data removed]",
      "text/plain": [
       "<matplotlib.figure.Figure at 0x7fc7e90d83c8>"
      ]
     },
     "metadata": {},
     "output_type": "display_data"
    }
   ],
   "source": [
    "freq = params['freq']\n",
    "doplot(tf_b, tf_a)"
   ]
  },
  {
   "cell_type": "code",
   "execution_count": 137,
   "metadata": {},
   "outputs": [
    {
     "data": {
      "text/plain": [
       "15734.265734265735"
      ]
     },
     "execution_count": 137,
     "metadata": {},
     "output_type": "execute_result"
    }
   ],
   "source": [
    "525*(30000/1001.0)"
   ]
  },
  {
   "cell_type": "code",
   "execution_count": 138,
   "metadata": {},
   "outputs": [
    {
     "data": {
      "text/plain": [
       "2033.777777812126"
      ]
     },
     "execution_count": 138,
     "metadata": {},
     "output_type": "execute_result"
    }
   ],
   "source": [
    "32000000/15734.265734"
   ]
  },
  {
   "cell_type": "code",
   "execution_count": 139,
   "metadata": {},
   "outputs": [
    {
     "data": {
      "text/plain": [
       "8.93968253968254"
      ]
     },
     "execution_count": 139,
     "metadata": {},
     "output_type": "execute_result"
    }
   ],
   "source": [
    "\n",
    "32.0/(315/88.0)"
   ]
  },
  {
   "cell_type": "code",
   "execution_count": 145,
   "metadata": {},
   "outputs": [
    {
     "data": {
      "text/plain": [
       "2.666666666666667"
      ]
     },
     "execution_count": 145,
     "metadata": {},
     "output_type": "execute_result"
    }
   ],
   "source": [
    "1.6/.6"
   ]
  },
  {
   "cell_type": "code",
   "execution_count": 146,
   "metadata": {},
   "outputs": [
    {
     "data": {
      "text/plain": [
       "2.666666666666667"
      ]
     },
     "execution_count": 146,
     "metadata": {},
     "output_type": "execute_result"
    }
   ],
   "source": [
    "3.2/1.2"
   ]
  },
  {
   "cell_type": "code",
   "execution_count": 147,
   "metadata": {},
   "outputs": [
    {
     "data": {
      "text/plain": [
       "2.8484848484848486"
      ]
     },
     "execution_count": 147,
     "metadata": {},
     "output_type": "execute_result"
    }
   ],
   "source": [
    "2.35/.825"
   ]
  },
  {
   "cell_type": "code",
   "execution_count": 148,
   "metadata": {},
   "outputs": [
    {
     "data": {
      "text/plain": [
       "0.4213483146067416"
      ]
     },
     "execution_count": 148,
     "metadata": {},
     "output_type": "execute_result"
    }
   ],
   "source": [
    "1.2/2.848"
   ]
  },
  {
   "cell_type": "code",
   "execution_count": 149,
   "metadata": {},
   "outputs": [
    {
     "data": {
      "text/plain": [
       "1.7087999999999999"
      ]
     },
     "execution_count": 149,
     "metadata": {},
     "output_type": "execute_result"
    }
   ],
   "source": [
    "\n",
    ".6*2.848"
   ]
  },
  {
   "cell_type": "code",
   "execution_count": null,
   "metadata": {
    "collapsed": true
   },
   "outputs": [],
   "source": []
  }
 ],
 "metadata": {
  "kernelspec": {
   "display_name": "Python 3",
   "language": "python",
   "name": "python3"
  },
  "language_info": {
   "codemirror_mode": {
    "name": "ipython",
    "version": 3
   },
   "file_extension": ".py",
   "mimetype": "text/x-python",
   "name": "python",
   "nbconvert_exporter": "python",
   "pygments_lexer": "ipython3",
   "version": "3.6.3"
  },
  "widgets": {
   "state": {},
   "version": "1.1.2"
  }
 },
 "nbformat": 4,
 "nbformat_minor": 2
}
