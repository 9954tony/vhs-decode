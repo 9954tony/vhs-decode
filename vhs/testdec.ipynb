{
 "cells": [
  {
   "cell_type": "code",
   "execution_count": 1,
   "metadata": {
    "collapsed": false
   },
   "outputs": [],
   "source": [
    "#!/usr/bin/python\n",
    "# coding: latin-1\n",
    "from __future__ import division\n",
    "from __future__ import print_function\n",
    "\n",
    "import numpy as np\n",
    "import scipy as sp\n",
    "import scipy.signal as sps\n",
    "import scipy.fftpack as fftpack \n",
    "\n",
    "%matplotlib inline\n",
    "import matplotlib.pyplot as plt\n",
    "\n",
    "import sys\n",
    "import getopt\n",
    "\n",
    "import fft8 as fft8 \n",
    "import fdls as fdls\n",
    "import ld_utils as utils\n",
    "\n",
    "import fftfilt as fftfilt\n",
    "\n",
    "pi = np.pi\n",
    "tau = np.pi * 2\n",
    "\n",
    "freq = (315.0 / 88.0) * 8.00\n",
    "freq_hz = freq * 1000000.0\n",
    "\n",
    "blocklen = (32 * 1024)  \n",
    "\n",
    "lowpass_filter_b, lowpass_filter_a = sps.butter(8, (4.5/(freq/2)), 'low')\n",
    "\n"
   ]
  },
  {
   "cell_type": "code",
   "execution_count": 43,
   "metadata": {
    "collapsed": true
   },
   "outputs": [],
   "source": [
    "toread = 2000000\n",
    "\n",
    "fd = open('PRE-sm-s4670.raw', 'rb')\n",
    "\n",
    "inbuf = fd.read(toread)\n",
    "indata = np.fromstring(inbuf, 'uint8', toread)\n"
   ]
  },
  {
   "cell_type": "code",
   "execution_count": 44,
   "metadata": {
    "collapsed": false
   },
   "outputs": [],
   "source": [
    "def fm_decode(hilbert, freq_hz):\n",
    "\t#hilbert = sps.hilbert(in_filt[0:hlen])\n",
    "#\thilbert = sps.lfilter(hilbert_filter, 1.0, in_filt)\n",
    "\n",
    "#\treturn hilbert.real\n",
    "\n",
    "\t# the hilbert transform has errors at the edges.  but it doesn't seem to matter much in practice \n",
    "\tchop = 256 \n",
    "\thilbert = hilbert[chop:len(hilbert)-chop]\n",
    "\n",
    "\ttangles = np.angle(hilbert) \n",
    "\tdangles = np.diff(tangles)\n",
    "\n",
    "\tdangles2 = dangles % pi\n",
    "\n",
    "\toutput = (dangles2 * (freq_hz / tau))\n",
    "\n",
    "\treturn output\n"
   ]
  },
  {
   "cell_type": "code",
   "execution_count": 45,
   "metadata": {
    "collapsed": true
   },
   "outputs": [],
   "source": [
    "# This matches FDLS-based conversion surprisingly well (i.e. FDLS is more accurate than I thought ;) )\n",
    "def BA_to_FFT(B, A, blocklen):\n",
    "    return np.complex64(sps.freqz(B, A, blocklen, whole=True)[1])\n",
    "\n",
    "# from http://tlfabian.blogspot.com/2013/01/implementing-hilbert-90-degree-shift.html\n",
    "hilbert_filter = np.fft.fftshift(\n",
    "    np.fft.ifft([0]+[1]*200+[0]*200)\n",
    ")\n",
    "\n",
    "Fhilbert = np.fft.fft(hilbert_filter, blocklen)"
   ]
  },
  {
   "cell_type": "code",
   "execution_count": 46,
   "metadata": {
    "collapsed": false
   },
   "outputs": [
    {
     "data": {
      "text/plain": [
       "32768"
      ]
     },
     "execution_count": 46,
     "metadata": {},
     "output_type": "execute_result"
    }
   ],
   "source": [
    "len(Fhilbert)"
   ]
  },
  {
   "cell_type": "code",
   "execution_count": 59,
   "metadata": {
    "collapsed": true
   },
   "outputs": [],
   "source": [
    "Bbpf, Abpf = sps.butter(6, [1.8/(freq/2), 5.0/(freq/2)], btype='bandpass')\n",
    "Fbpf = BA_to_FFT(Bbpf, Abpf, blocklen)\n",
    "\n",
    "FiltV = Fhilbert * Fbpf"
   ]
  },
  {
   "cell_type": "code",
   "execution_count": 65,
   "metadata": {
    "collapsed": false
   },
   "outputs": [],
   "source": [
    "offset = 1500000\n",
    "dataf = np.float32(indata[offset:offset + blocklen])\n",
    "\n",
    "in_filt = np.fft.ifft(np.fft.fft(dataf,blocklen)*FiltV,blocklen)\n",
    "output = fm_decode(in_filt, freq_hz)\n",
    "\n"
   ]
  },
  {
   "cell_type": "code",
   "execution_count": 66,
   "metadata": {
    "collapsed": false
   },
   "outputs": [
    {
     "data": {
      "text/plain": [
       "[<matplotlib.lines.Line2D at 0x7f3164589240>]"
      ]
     },
     "execution_count": 66,
     "metadata": {},
     "output_type": "execute_result"
    },
    {
     "data": {
      "image/png": "[encoded data removed]",
      "text/plain": [
       "<matplotlib.figure.Figure at 0x7f31645c0400>"
      ]
     },
     "metadata": {},
     "output_type": "display_data"
    }
   ],
   "source": [
    "plt.plot(output)"
   ]
  },
  {
   "cell_type": "code",
   "execution_count": null,
   "metadata": {
    "collapsed": true
   },
   "outputs": [],
   "source": []
  },
  {
   "cell_type": "code",
   "execution_count": null,
   "metadata": {
    "collapsed": true
   },
   "outputs": [],
   "source": []
  }
 ],
 "metadata": {
  "kernelspec": {
   "display_name": "Python 3",
   "language": "python",
   "name": "python3"
  },
  "language_info": {
   "codemirror_mode": {
    "name": "ipython",
    "version": 3
   },
   "file_extension": ".py",
   "mimetype": "text/x-python",
   "name": "python",
   "nbconvert_exporter": "python",
   "pygments_lexer": "ipython3",
   "version": "3.5.2+"
  }
 },
 "nbformat": 4,
 "nbformat_minor": 0
}
