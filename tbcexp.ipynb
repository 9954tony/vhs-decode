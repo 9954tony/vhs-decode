{
 "cells": [
  {
   "cell_type": "code",
   "execution_count": 132,
   "metadata": {
    "collapsed": false,
    "scrolled": true
   },
   "outputs": [],
   "source": [
    "%matplotlib inline\n",
    "from matplotlib.pyplot import imshow\n",
    "import matplotlib.pyplot as plt\n",
    "import numpy as np\n",
    "from IPython.display import HTML\n",
    "import IPython.display \n",
    "from io import BytesIO\n",
    "from base64 import b64encode\n",
    "from PIL import Image\n"
   ]
  },
  {
   "cell_type": "code",
   "execution_count": 117,
   "metadata": {
    "collapsed": false
   },
   "outputs": [
    {
     "name": "stdout",
     "output_type": "stream",
     "text": [
      "(2866500,)\n"
     ]
    }
   ],
   "source": [
    "infd = open('ve30.ld', 'rb')\n",
    "\n",
    "bufsize = 1820 * 525 * 3\n",
    "inbuf = infd.read(bufsize * 2)\n",
    "data = np.fromstring(inbuf, 'uint16', bufsize)\n",
    "\n",
    "print(data.shape)"
   ]
  },
  {
   "cell_type": "code",
   "execution_count": 136,
   "metadata": {
    "collapsed": false
   },
   "outputs": [],
   "source": [
    "# Draws a uint16 image as a uint8, defaults to one frame\n",
    "def drawdata(bm, x = 1820, y = 525):\n",
    "#    bmf = np.float32(bm) / 65536.0\n",
    "    if y is None:\n",
    "        y = len(bm) // x\n",
    "    \n",
    "    bmf = np.uint8(bm[0:1820*y] / 256.0)\n",
    "    print(bmf.shape)\n",
    "    if x is not None:\n",
    "        bms = (bmf.reshape(len(bmf)//1820, -1))\n",
    "    else:\n",
    "        bms = bmf\n",
    "    \n",
    "    print(bms.dtype, bms.shape, bms[:][0:y].shape)\n",
    "    im = Image.fromarray(bms[0:y])\n",
    "#    imshow(np.asarray(im))\n",
    "    b = BytesIO()\n",
    "    im.save(b, format='png')\n",
    "    return IPython.display.Image(b.getvalue())\n",
    "                         \n",
    "#drawdata(data)                         "
   ]
  },
  {
   "cell_type": "code",
   "execution_count": 135,
   "metadata": {
    "collapsed": false
   },
   "outputs": [
    {
     "data": {
      "text/plain": [
       "[<matplotlib.lines.Line2D at 0x7f38696dba58>]"
      ]
     },
     "execution_count": 135,
     "metadata": {},
     "output_type": "execute_result"
    },
    {
     "data": {
      "image/png": "[encoded data removed]",
      "text/plain": [
       "<matplotlib.figure.Figure at 0x7f3869f15860>"
      ]
     },
     "metadata": {},
     "output_type": "display_data"
    }
   ],
   "source": [
    "plt.plot(data[0:3000])"
   ]
  },
  {
   "cell_type": "code",
   "execution_count": null,
   "metadata": {
    "collapsed": true
   },
   "outputs": [],
   "source": []
  }
 ],
 "metadata": {
  "kernelspec": {
   "display_name": "Python 3",
   "language": "python",
   "name": "python3"
  },
  "language_info": {
   "codemirror_mode": {
    "name": "ipython",
    "version": 3
   },
   "file_extension": ".py",
   "mimetype": "text/x-python",
   "name": "python",
   "nbconvert_exporter": "python",
   "pygments_lexer": "ipython3",
   "version": "3.4.0"
  }
 },
 "nbformat": 4,
 "nbformat_minor": 0
}
