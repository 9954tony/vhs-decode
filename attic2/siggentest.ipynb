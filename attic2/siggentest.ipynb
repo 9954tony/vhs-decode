{
 "cells": [
  {
   "cell_type": "code",
   "execution_count": 13,
   "metadata": {
    "collapsed": true
   },
   "outputs": [],
   "source": [
    "# Incredibly rough early analysis of siggen capture (DD 2_0, 220pf filter cap)\n",
    "\n",
    "import numpy as np\n",
    "import scipy as sp\n",
    "import scipy.signal as sps\n",
    "import scipy.fftpack as fftpack \n",
    "import matplotlib.pyplot as plt\n",
    "import sys\n",
    "import getopt\n",
    "\n",
    "%matplotlib inline\n",
    "\n",
    "import matplotlib\n",
    "matplotlib.rc('figure', figsize=(20, 12))\n",
    "\n",
    "from datetime import  datetime\n",
    "\n",
    "import fft8 as fft8 \n",
    "import ld_utils as utils\n",
    "\n",
    "import copy"
   ]
  },
  {
   "cell_type": "code",
   "execution_count": 17,
   "metadata": {},
   "outputs": [],
   "source": [
    "#infile = open('.raw', 'rb')\n",
    "infile = open('/home/cpage/siggen.raw', 'rb')\n",
    "#infile.seek(8 * 1024 * 1024 * 1024)\n",
    "inbuf = infile.read(1024 * 1024 * 80 * 8)\n",
    "indata = np.fromstring(inbuf, 'int16', len(inbuf) // 2)\n",
    "\n"
   ]
  },
  {
   "cell_type": "code",
   "execution_count": 18,
   "metadata": {},
   "outputs": [
    {
     "data": {
      "text/plain": [
       "335544320"
      ]
     },
     "execution_count": 18,
     "metadata": {},
     "output_type": "execute_result"
    }
   ],
   "source": [
    "len(indata)"
   ]
  },
  {
   "cell_type": "code",
   "execution_count": 25,
   "metadata": {},
   "outputs": [
    {
     "data": {
      "text/plain": [
       "400000.0"
      ]
     },
     "execution_count": 25,
     "metadata": {},
     "output_type": "execute_result"
    }
   ],
   "source": [
    "4000000/10"
   ]
  },
  {
   "cell_type": "code",
   "execution_count": 46,
   "metadata": {},
   "outputs": [
    {
     "name": "stdout",
     "output_type": "stream",
     "text": [
      "85000000 1 10804.2717537 31040 665098175.207 0.9992\n",
      "89000000 2 10624.8346834 30528 753455818.916 1.9992\n",
      "93000000 3 10389.4272368 29888 835661165.945 2.9992\n",
      "97000000 4 10061.3453993 29056 885698352.848 3.9992\n",
      "101000000 5 9717.94798186 28032 962107163.552 4.9992\n",
      "105000000 6 9260.59485152 26816 1019469388.46 5.9992\n",
      "109000000 7 8836.50962283 25600 1086141228.88 6.9992\n",
      "113000000 8 8358.21315007 23936 1099944859.11 7.9992\n",
      "117000000 9 7927.60203392 23424 1118698310.15 8.9992\n",
      "121000000 10 7510.43169629 21312 1127151493.83 9.9992\n",
      "125000000 11 7068.52327413 21120 1167833202.49 10.9992\n",
      "129000000 12 6673.27723229 19904 1177248571.06 11.9992\n",
      "133000000 13 6302.76765408 19008 1179127845.51 12.9992\n",
      "137000000 14 5953.47021003 18048 1168948506.56 13.9992\n",
      "141000000 15 5645.39788656 17536 1147646727.77 14.9992\n",
      "145000000 16 5312.36709828 16384 1154847774.77 15.9992\n",
      "149000000 17 5059.83712381 16064 1164269051.17 16.9992\n",
      "153000000 18 4801.85542892 15104 1203070694.85 17.9992\n",
      "157000000 19 4591.62874371 14528 1142798370.3 18.9992\n",
      "161000000 20 5608.62438382 13632 382392821.99 19.9984\n",
      "165000000 21 4208.40277402 13696 1158155950.82 18.9992\n",
      "169000000 22 4046.98899389 13120 1107605840.45 17.9992\n",
      "173000000 23 3902.86496035 12928 1107052432.87 16.9992\n",
      "177000000 24 3744.42209154 12352 1085648281.65 15.9992\n",
      "181000000 25 3579.07705251 11520 1048169445.86 14.9992\n",
      "185000000 26 3433.96463594 11712 1134185483.2 13.9992\n",
      "189000000 27 3354.23424433 11648 1077036020.77 12.9992\n",
      "193000000 28 3269.49300153 11136 1063781987.02 11.9992\n",
      "197000000 29 3212.75857 11200 1147839013.71 10.9992\n",
      "201000000 30 3313.34649148 11456 1004479670.72 9.9992\n",
      "205000000 31 3098.36305015 11136 1107222978.07 8.9992\n",
      "209000000 32 3060.99301911 11008 1080309322.92 7.9992\n",
      "213000000 33 3024.79764176 11328 1089337288.04 6.9992\n",
      "217000000 34 2992.60222745 11072 1082333396.45 5.9992\n",
      "221000000 35 2979.39324268 10304 1063567910.22 4.9992\n",
      "225000000 36 2913.70014124 11136 1080774882.13 3.9992\n",
      "229000000 37 2887.28022016 11200 1193455982.93 2.9992\n",
      "233000000 38 2834.11231157 10944 1070106998.27 1.9992\n",
      "237000000 39 2821.30866818 11136 1049567442.49 0.9984\n",
      "241000000 40 1573.1811738 8000 548185217.643 0.0\n",
      "245000000 41 2781.60405545 11136 1064068946.82 1.0\n",
      "249000000 42 2745.64276347 11136 1083253479.79 2.0\n",
      "253000000 43 2692.49915332 11072 1085094611.35 3.0\n",
      "257000000 44 2635.65595467 11136 1074260239.73 4.0\n",
      "261000000 45 2595.88579007 11136 1179717243.92 5.0\n",
      "265000000 46 2587.44329062 11200 1106776447.76 6.0\n",
      "269000000 47 2582.35806722 11264 1110052549.15 7.0\n",
      "273000000 48 2558.09315462 10944 1185449629.79 8.0\n"
     ]
    }
   ],
   "source": [
    "def sqsum(cmplx):\n",
    "    return np.sqrt((cmplx.real ** 2) + (cmplx.imag ** 2))\n",
    "\n",
    "freq = 0\n",
    "for i in range(85000000, 277000000, 4000000):\n",
    "    fftdata = np.fft.fft(indata[i:i+50000])\n",
    "    sdata = sqsum(fftdata)\n",
    "    \n",
    "    freq += 1\n",
    "    \n",
    "    print(i, freq, np.std(indata[i:i+50000]), np.max(indata[i:i+50000]) - np.min(indata[i:i+50000]), np.sum(sdata[1:25000]), (np.argmax(sdata[1:25000]) / 25000 * 20))"
   ]
  },
  {
   "cell_type": "markdown",
   "metadata": {},
   "source": [
    "takeaway:  the LPF is pretty weak :P  There's about a 20% reduction accd to my scope, but 25-33% left (depending on if you look at RMS or not) at 49mhz is a bit high :P"
   ]
  },
  {
   "cell_type": "code",
   "execution_count": null,
   "metadata": {
    "collapsed": true
   },
   "outputs": [],
   "source": []
  }
 ],
 "metadata": {
  "kernelspec": {
   "display_name": "Python 3",
   "language": "python",
   "name": "python3"
  },
  "language_info": {
   "codemirror_mode": {
    "name": "ipython",
    "version": 3
   },
   "file_extension": ".py",
   "mimetype": "text/x-python",
   "name": "python",
   "nbconvert_exporter": "python",
   "pygments_lexer": "ipython3",
   "version": "3.6.3"
  },
  "widgets": {
   "state": {},
   "version": "1.1.2"
  }
 },
 "nbformat": 4,
 "nbformat_minor": 2
}
